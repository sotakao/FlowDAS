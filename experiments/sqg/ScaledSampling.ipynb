{
 "cells": [
  {
   "cell_type": "code",
   "execution_count": 1,
   "id": "f83ca931-c957-4b2c-b102-5aea9bca7dfc",
   "metadata": {},
   "outputs": [
    {
     "name": "stdout",
     "output_type": "stream",
     "text": [
      "Device: cuda\n"
     ]
    }
   ],
   "source": [
    "import os, math, h5py\n",
    "import torch\n",
    "import torch.nn as nn\n",
    "import numpy as np\n",
    "import matplotlib.pyplot as plt\n",
    "from pathlib import Path\n",
    "from typing import Optional, Tuple\n",
    "from torch import Tensor\n",
    "from tqdm import tqdm\n",
    "from models import DriftModel, Interpolant\n",
    "from utils import TrajectoryDataset, to_grid\n",
    "from types import SimpleNamespace\n",
    "\n",
    "device = torch.device(\"cuda\" if torch.cuda.is_available() else \"cpu\")\n",
    "print(\"Device:\", device)"
   ]
  },
  {
   "cell_type": "code",
   "execution_count": 2,
   "id": "298ff971-c053-414d-a0c9-c9e8fbcbcac9",
   "metadata": {},
   "outputs": [],
   "source": [
    "# Config\n",
    "WINDOW = 7  # must be >=2 (this decides cond channels)\n",
    "CKPT_PATH = f\"./checkpoints/latest_3hrly_window_{WINDOW}_cosine_normalized.best.pt\"   # your trained weights\n",
    "TRAIN_H5 = \"/central/scratch/sotakao/sqg_train_data/3hrly/sqg_pv_train.h5\"\n",
    "VAL_H5 = \"/central/scratch/sotakao/sqg_train_data/3hrly/sqg_pv_valid.h5\"\n",
    "USE_VAL = True  # True -> pick from VAL_H5, else TRAIN_H5\n",
    "INDEX = 0   # which trajectory to demo\n",
    "BETA_FN = \"t^2\"  # 't' or 't^2'\n",
    "SIGMA_COEF = 1.0\n",
    "EM_STEPS = 200\n",
    "GUIDE = 0.1 # measurement guidance strength (0 disables)\n",
    "NORMALIZE = False\n",
    "\n",
    "# simulate sparse obs (mask target) for demo; replace with your real operator + y_obs if you have one\n",
    "SIM_SPARSE_OBS = True\n",
    "OBS_RATIO = 1.  # 25% pixels observed\n",
    "OBS_NOISE_STD = 0.0\n",
    "\n",
    "# scales\n",
    "scalefact = 0.003061224412462883\n",
    "train_mean = 0.0\n",
    "train_std = 2672.231201171875\n",
    "scale = scalefact * train_std"
   ]
  },
  {
   "cell_type": "code",
   "execution_count": 3,
   "id": "6a6d3975-54e5-4a97-ad33-b5d4670b2cdc",
   "metadata": {},
   "outputs": [],
   "source": [
    "# Small helpers\n",
    "def load_single_trajectory(h5_path: str, idx: int, window: int, normalize=False, mean=0.0, std=1.0) -> Tensor:\n",
    "    \"\"\"\n",
    "    Return (1, T, C, H, W) cropped to window from dataset['x'] (N,T,C,H,W).\n",
    "    \"\"\"\n",
    "    with h5py.File(h5_path, \"r\") as f:\n",
    "        x = f[\"x\"][idx]  # (T, C, H, W)\n",
    "    T = x.shape[0]\n",
    "    w = min(window, T)\n",
    "    x = torch.from_numpy(x[:w]).float()  # (w,C,H,W)\n",
    "    if normalize:\n",
    "        x = (x - mean) / (std if std > 0 else 1.0)\n",
    "    return x.unsqueeze(0)  # (1,w,C,H,W)\n",
    "\n",
    "def build_cond_z0_z1(x: Tensor) -> Tuple[Tensor, Tensor, Tensor]:\n",
    "    \"\"\"\n",
    "    x: (B, T, C, H, W) with T>=2\n",
    "    cond = x[:, :-1] flattened over time -> (B, (T-1)*C, H, W)\n",
    "    z0   = x[:, -2]  (base/last past frame)\n",
    "    z1   = x[:, -1]  (target frame; optional GT)\n",
    "    \"\"\"\n",
    "    assert x.dim() == 5 and x.shape[1] >= 2\n",
    "    B, T, C, H, W = x.shape\n",
    "    past = x[:, :-1]                                 # (B, T-1, C, H, W)\n",
    "    cond = past.reshape(B, (T-1)*C, H, W).contiguous()\n",
    "    z0   = x[:, -2]                                  # (B, C, H, W)\n",
    "    z1   = x[:, -1]                                  # (B, C, H, W)\n",
    "    return cond, z0, z1\n",
    "\n",
    "def make_mask_like(z: Tensor, ratio: float, seed: int = 0) -> Tensor:\n",
    "    g = torch.Generator(device=z.device)\n",
    "    g.manual_seed(seed)\n",
    "    return (torch.rand(z.shape, generator=g, device=z.device) < ratio).float()"
   ]
  },
  {
   "cell_type": "code",
   "execution_count": 4,
   "id": "3dfa174f-d00c-4e24-8b38-e1c2528cbde7",
   "metadata": {},
   "outputs": [
    {
     "name": "stdout",
     "output_type": "stream",
     "text": [
      "shape: (1, 7, 2, 64, 64)\n"
     ]
    },
    {
     "data": {
      "text/plain": [
       "(torch.Size([1, 12, 64, 64]),\n",
       " torch.Size([1, 2, 64, 64]),\n",
       " torch.Size([1, 2, 64, 64]))"
      ]
     },
     "execution_count": 4,
     "metadata": {},
     "output_type": "execute_result"
    }
   ],
   "source": [
    "# Load one trajectory and build conditioning\n",
    "h5_path = VAL_H5 if USE_VAL else TRAIN_H5\n",
    "x = load_single_trajectory(h5_path, INDEX, WINDOW,\n",
    "                           normalize=True, mean=train_mean, std=train_std\n",
    "                          ).to(device)  # (1,T,C,H,W)\n",
    "x *= scale\n",
    "B, T, C, H, W = x.shape\n",
    "print(\"shape:\", (B, T, C, H, W))\n",
    "\n",
    "cond, z0, z1 = build_cond_z0_z1(x)  # cond: (1,(T-1)*C,H,W), z0/z1: (1,C,H,W)\n",
    "cond.shape, z0.shape, z1.shape"
   ]
  },
  {
   "cell_type": "code",
   "execution_count": 5,
   "id": "bba60134-cb9f-4655-b3c7-f638761d8e8b",
   "metadata": {},
   "outputs": [],
   "source": [
    "h5_path = VAL_H5 if USE_VAL else TRAIN_H5\n",
    "x = load_single_trajectory(h5_path, INDEX, 10,\n",
    "                           normalize=True, mean=train_mean, std=train_std\n",
    "                          ).to(device)  # (1,T,C,H,W)\n",
    "x *= scale\n",
    "B, T, C, H, W = x.shape\n",
    "past = x[:, :6]                                 # (B, T-1, C, H, W)\n",
    "cond = past.reshape(B, 6*C, H, W).contiguous()\n",
    "z0   = x[:, 5]                                  # (B, C, H, W)\n",
    "z1   = x[:, -1]                                  # (B, C, H, W)"
   ]
  },
  {
   "cell_type": "code",
   "execution_count": 6,
   "id": "b33ea8b7-3148-45e4-b11d-e2262fe01082",
   "metadata": {},
   "outputs": [
    {
     "name": "stdout",
     "output_type": "stream",
     "text": [
      "NOT USING CLASSES IN UNET\n"
     ]
    }
   ],
   "source": [
    "# Load model\n",
    "# data_cfg: only needs C for channel count\n",
    "data_cfg = SimpleNamespace(C=C)\n",
    "\n",
    "# model_cfg: must include all the attributes DriftModel expects\n",
    "model_cfg = SimpleNamespace(\n",
    "    unet_channels=64,\n",
    "    unet_dim_mults=(1, 2, 2),\n",
    "    unet_resnet_block_groups=8,\n",
    "    unet_learned_sinusoidal_dim=32,\n",
    "    unet_attn_dim_head=64,\n",
    "    unet_attn_heads=4,\n",
    "    unet_learned_sinusoidal_cond=True,\n",
    "    unet_random_fourier_features=False,\n",
    "    use_classes=False,\n",
    ")\n",
    "\n",
    "interp_cfg = SimpleNamespace(\n",
    "    sigma_coef=1.0,\n",
    "    beta_fn=\"t\",\n",
    "    t_min_train=0.0,\n",
    "    t_max_train=1.0,\n",
    "    t_min_sampling=0.0,\n",
    "    t_max_sampling=0.999,\n",
    "    EM_sample_steps=200\n",
    ")\n",
    "\n",
    "cond_channels = cond.shape[1]\n",
    "drift = DriftModel(\n",
    "    data_cfg=data_cfg,\n",
    "    model_cfg=model_cfg,\n",
    "    cond_channels=cond_channels\n",
    ").to(device)\n",
    "drift.eval()\n",
    "\n",
    "# Load checkpoint: support both {\"model\": state_dict, ...} and raw state_dict\n",
    "ckpt = torch.load(CKPT_PATH, map_location=device)\n",
    "state = ckpt[\"model\"] if isinstance(ckpt, dict) and \"model\" in ckpt else ckpt\n",
    "drift.load_state_dict(state, strict=True)\n",
    "\n",
    "interp = Interpolant(interp_cfg)"
   ]
  },
  {
   "cell_type": "code",
   "execution_count": 7,
   "id": "6768f1b7-0aad-4baa-ad0b-cbe566c9097c",
   "metadata": {},
   "outputs": [],
   "source": [
    "mask = make_mask_like(z1, ratio=OBS_RATIO, seed=0).to(device)\n",
    "operator = lambda x: x * mask\n",
    "y_obs = operator(z1)\n",
    "if OBS_NOISE_STD > 0:\n",
    "    y_obs = y_obs + OBS_NOISE_STD * mask * torch.randn_like(y_obs)"
   ]
  },
  {
   "cell_type": "code",
   "execution_count": 22,
   "id": "9882eab0-0668-4a6a-837e-f716d320ba8d",
   "metadata": {},
   "outputs": [],
   "source": [
    "import math\n",
    "import torch\n",
    "\n",
    "@torch.no_grad()\n",
    "def _sigma_broadcast(interp, tb, like: torch.Tensor):\n",
    "    sig = interp.sigma(tb)\n",
    "    # make broadcastable to (B,C,H,W)\n",
    "    if sig.dim() == 1:\n",
    "        sig = sig[:, None, None, None]\n",
    "    return sig.expand_as(like) if sig.shape != like.shape else sig\n",
    "\n",
    "\n",
    "def dps_x1_hat(drift, interp, x0, x, t, cond, scale, device):\n",
    "    tb = t.repeat(x.shape[0]).to(device)\n",
    "    # denom = interp.beta(tb) * interp.alpha_dot(tb) - interp.alpha(tb) * interp.beta_dot(tb)\n",
    "    # x1_hat = (scale * interp.beta(tb) * drift(x/scale, tb, cond=cond/scale) \\\n",
    "    #            - interp.beta_dot(tb) * x) / denom\n",
    "    denom = interp.sigma(tb) * interp.beta_dot(tb) - interp.beta(tb) * interp.sigma_dot(tb)\n",
    "    fac = interp.alpha_dot(tb) * interp.sigma(tb) - interp.alpha(tb) * interp.sigma_dot(tb)\n",
    "    x1_hat = (interp.sigma(tb) * drift(x/scale, tb, cond=cond/scale) - interp.sigma_dot(tb) * x - fac * x0) / denom\n",
    "    return x1_hat\n",
    "\n",
    "\n",
    "def em_sample_conditioned(\n",
    "    drift, interp,\n",
    "    xt,            # (B,C,H,W) current state, will be *updated* and returned\n",
    "    cond,          # (B,(T-1)C,H,W) conditioner\n",
    "    y_obs,         # (B,C,H,W) observation at this step (normalized same as training)\n",
    "    operator,      # differentiable measurement operator, e.g., lambda x: x * mask\n",
    "    *,\n",
    "    steps=200, t_min=0.0, t_max=0.999,\n",
    "    guide=0.1, noise_scale=1.0,\n",
    "    mc_samples=1, second_order=True,\n",
    "    method='mc',\n",
    "    verbose=False\n",
    "):\n",
    "    \"\"\"\n",
    "    One assimilation window: runs an EM-like sampler from t_min..t_max conditioned on y_obs.\n",
    "    Returns the final xt (detached).\n",
    "    \"\"\"\n",
    "    device = xt.device\n",
    "    x0 = xt.clone()\n",
    "    ts = torch.linspace(t_min, t_max, steps, device=device)\n",
    "    dt = float(ts[1] - ts[0])\n",
    "\n",
    "    # Freeze model params during sampling\n",
    "    req = [p.requires_grad for p in drift.parameters()]\n",
    "    for p in drift.parameters():\n",
    "        p.requires_grad_(False)\n",
    "\n",
    "    if verbose:\n",
    "        pbar = tqdm(total=len(ts), desc=\"EM steps\")\n",
    "        \n",
    "    for t in ts:\n",
    "        xt = xt.detach().requires_grad_(True)\n",
    "        tb = t.repeat(xt.shape[0]).to(device)\n",
    "\n",
    "        # Drift and sigma (no grads through model params)\n",
    "        with torch.no_grad():\n",
    "            bF  = scale * drift(xt / scale, tb, cond=cond / scale)       # (B,C,H,W)\n",
    "            sig = scale * _sigma_broadcast(interp, tb, like=xt)\n",
    "\n",
    "        # ----- Monte Carlo look-aheads (expectation of measurement loss) -----\n",
    "        if method == 'mc':\n",
    "            losses = []\n",
    "            for _ in range(mc_samples):\n",
    "                eps_k  = torch.randn(xt.shape, device=device)\n",
    "                # 1st order look-ahead to (approx) x_1\n",
    "                x1_hat = xt + bF * (1.0 - t) + sig * eps_k * math.sqrt(max(1e-8, 1.0 - float(t)))\n",
    "    \n",
    "                if second_order:\n",
    "                    with torch.no_grad():\n",
    "                        t1  = torch.ones_like(tb)      # time ~ 1.0\n",
    "                        bF2 = scale * drift(x1_hat / scale, t1, cond=cond / scale)\n",
    "                    x1_hat = xt + 0.5*(bF + bF2)*(1.0 - t) + sig * eps_k * math.sqrt(max(1e-8, 1.0 - float(t)))\n",
    "    \n",
    "                meas = operator(x1_hat)               # same normalization as training!\n",
    "                # losses.append((meas - y_obs).pow(2).mean())\n",
    "                losses.append(torch.linalg.vector_norm(meas - y_obs, dim=(1,2,3)))\n",
    "            loss_meas = torch.stack(losses).mean()\n",
    "        elif method == 'dps':\n",
    "            x1_hat = dps_x1_hat(drift, interp, x0, xt, t, cond, scale, device)\n",
    "            meas = operator(x1_hat)\n",
    "            loss_meas = torch.linalg.vector_norm(meas - y_obs)\n",
    "            \n",
    "        grad_xt = torch.autograd.grad(loss_meas, xt, retain_graph=False, create_graph=False)[0]\n",
    "\n",
    "        # EM update\n",
    "        mu  = xt + bF * dt\n",
    "        eps = torch.randn(mu.shape, device=device)\n",
    "        xt  = mu + noise_scale * sig * eps * math.sqrt(dt) - guide * scale * grad_xt\n",
    "\n",
    "        if verbose:\n",
    "            pbar.update(1)\n",
    "            pbar.set_postfix({\"loss_meas\": f\"{float(loss_meas):.3f}\"})\n",
    "            \n",
    "    # restore requires_grad flags\n",
    "    for p, r in zip(drift.parameters(), req):\n",
    "        p.requires_grad_(r)\n",
    "\n",
    "    return xt.detach()\n"
   ]
  },
  {
   "cell_type": "code",
   "execution_count": 23,
   "id": "7bf67dd8-2f2e-4161-9fb5-1eae82bf60cf",
   "metadata": {},
   "outputs": [
    {
     "name": "stderr",
     "output_type": "stream",
     "text": [
      "EM steps: 100%|██████████| 200/200 [00:10<00:00, 18.68it/s, loss_meas=4.337] \n"
     ]
    },
    {
     "data": {
      "image/png": "[encoded data removed]",
      "text/plain": [
       "<Figure size 1200x400 with 3 Axes>"
      ]
     },
     "metadata": {},
     "output_type": "display_data"
    }
   ],
   "source": [
    "pred = em_sample_conditioned(\n",
    "    drift=drift, interp=interp,\n",
    "    xt=z0, cond=cond,\n",
    "    y_obs=y_obs, operator=operator,\n",
    "    steps=200, guide=1., mc_samples=5,\n",
    "    noise_scale=0.2,\n",
    "    verbose=True,\n",
    "    method='dps'\n",
    ")\n",
    "\n",
    "# quick viz for C=1 or C=2\n",
    "def show_triplet(z0, z1, pred, title=\"\"):\n",
    "    z0_ = z0[0].detach().cpu()\n",
    "    z1_ = z1[0].detach().cpu()\n",
    "    pr_ = pred[0].detach().cpu()\n",
    "\n",
    "    nrow = 3\n",
    "    fig, axes = plt.subplots(1, nrow, figsize=(12,4))\n",
    "    def im(ax, img, ttl):\n",
    "        img = img.squeeze(0) if img.dim()==3 and img.shape[0]==1 else img\n",
    "        if img.dim()==3 and img.shape[0] in [1,3]:\n",
    "            ax.imshow(img.permute(1,2,0), cmap=None if img.shape[0]==3 else \"gray\")\n",
    "        else:\n",
    "            ax.imshow(img[0], cmap=\"gray\")\n",
    "        ax.set_title(ttl); ax.axis(\"off\")\n",
    "\n",
    "    im(axes[0], z0_, \"z0 (last past)\")\n",
    "    im(axes[1], z1_, \"z1 (target)\")\n",
    "    im(axes[2], pr_, \"pred\")\n",
    "    fig.suptitle(title); plt.show()\n",
    "\n",
    "show_triplet(z0, z1, pred, title=f\"INDEX={INDEX}, window={WINDOW}, guide={GUIDE}\")"
   ]
  },
  {
   "cell_type": "code",
   "execution_count": 24,
   "id": "fe8187df-7eb2-4cc5-8737-efa4300107fe",
   "metadata": {},
   "outputs": [
    {
     "name": "stdout",
     "output_type": "stream",
     "text": [
      "rmse = 0.002\n"
     ]
    }
   ],
   "source": [
    "rmse = torch.mean((z1 - pred)**2)\n",
    "print(f\"rmse = {rmse:.3f}\")"
   ]
  },
  {
   "cell_type": "code",
   "execution_count": 11,
   "id": "4a10297c-50bb-45a3-8bb4-65558908896d",
   "metadata": {},
   "outputs": [
    {
     "ename": "NameError",
     "evalue": "name 'em_sample_conditioned_mc' is not defined",
     "output_type": "error",
     "traceback": [
      "\u001b[0;31m---------------------------------------------------------------------------\u001b[0m",
      "\u001b[0;31mNameError\u001b[0m                                 Traceback (most recent call last)",
      "Cell \u001b[0;32mIn[11], line 6\u001b[0m\n\u001b[1;32m      4\u001b[0m preds \u001b[38;5;241m=\u001b[39m []\n\u001b[1;32m      5\u001b[0m \u001b[38;5;28;01mfor\u001b[39;00m i \u001b[38;5;129;01min\u001b[39;00m \u001b[38;5;28mrange\u001b[39m(\u001b[38;5;241m4\u001b[39m):\n\u001b[0;32m----> 6\u001b[0m     pred \u001b[38;5;241m=\u001b[39m \u001b[43mem_sample_conditioned_mc\u001b[49m(\n\u001b[1;32m      7\u001b[0m         drift\u001b[38;5;241m=\u001b[39mdrift, interp\u001b[38;5;241m=\u001b[39minterp,\n\u001b[1;32m      8\u001b[0m         xt\u001b[38;5;241m=\u001b[39mz0, cond\u001b[38;5;241m=\u001b[39mcond,\n\u001b[1;32m      9\u001b[0m         y_obs\u001b[38;5;241m=\u001b[39my_obs, operator\u001b[38;5;241m=\u001b[39moperator,\n\u001b[1;32m     10\u001b[0m         steps\u001b[38;5;241m=\u001b[39m\u001b[38;5;241m200\u001b[39m, guide\u001b[38;5;241m=\u001b[39m\u001b[38;5;241m0.\u001b[39m, mc_samples\u001b[38;5;241m=\u001b[39m\u001b[38;5;241m1\u001b[39m,\n\u001b[1;32m     11\u001b[0m         noise_scale\u001b[38;5;241m=\u001b[39m\u001b[38;5;241m1.\u001b[39m\n\u001b[1;32m     12\u001b[0m     )\n\u001b[1;32m     13\u001b[0m     preds\u001b[38;5;241m.\u001b[39mappend(pred)\n\u001b[1;32m     15\u001b[0m preds \u001b[38;5;241m=\u001b[39m torch\u001b[38;5;241m.\u001b[39mcat(preds)\n",
      "\u001b[0;31mNameError\u001b[0m: name 'em_sample_conditioned_mc' is not defined"
     ]
    }
   ],
   "source": [
    "# z0 = z0 + 0.1*torch.randn((5,)+z0.shape[1:], device=device)\n",
    "# cond = cond + 0.1*torch.randn((5,)+cond.shape[1:], device=device)\n",
    "\n",
    "preds = []\n",
    "for i in range(4):\n",
    "    pred = em_sample_conditioned_mc(\n",
    "        drift=drift, interp=interp,\n",
    "        xt=z0, cond=cond,\n",
    "        y_obs=y_obs, operator=operator,\n",
    "        steps=200, guide=0., mc_samples=1,\n",
    "        noise_scale=1.\n",
    "    )\n",
    "    preds.append(pred)\n",
    "\n",
    "preds = torch.cat(preds)"
   ]
  },
  {
   "cell_type": "code",
   "execution_count": null,
   "id": "16e92cc1-2872-4103-9a34-620744fe3d64",
   "metadata": {},
   "outputs": [],
   "source": [
    "fig, axs = plt.subplots(2, 4, figsize=(20,10))\n",
    "mean_pred = preds.mean(dim=0)\n",
    "for i in range(4):\n",
    "    im0 = axs[0,i].imshow(preds[i,0].cpu())\n",
    "    im1 = axs[1,i].imshow(torch.abs(preds[i]-mean_pred)[0].cpu())\n",
    "    plt.colorbar(im0)\n",
    "    plt.colorbar(im1)"
   ]
  },
  {
   "cell_type": "code",
   "execution_count": null,
   "id": "8a0a91ee-f8f6-4c0a-8a40-16d383cb6a3f",
   "metadata": {},
   "outputs": [],
   "source": []
  }
 ],
 "metadata": {
  "kernelspec": {
   "display_name": "flowdas",
   "language": "python",
   "name": "flowdas"
  },
  "language_info": {
   "codemirror_mode": {
    "name": "ipython",
    "version": 3
   },
   "file_extension": ".py",
   "mimetype": "text/x-python",
   "name": "python",
   "nbconvert_exporter": "python",
   "pygments_lexer": "ipython3",
   "version": "3.10.16"
  }
 },
 "nbformat": 4,
 "nbformat_minor": 5
}
